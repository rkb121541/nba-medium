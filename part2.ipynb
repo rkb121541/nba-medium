{
 "cells": [
  {
   "cell_type": "code",
   "execution_count": 1,
   "id": "b4afe0ed",
   "metadata": {},
   "outputs": [],
   "source": [
    "import pandas as pd\n",
    "import requests\n",
    "from bs4 import BeautifulSoup"
   ]
  },
  {
   "cell_type": "code",
   "execution_count": 2,
   "id": "0d86e7ab",
   "metadata": {},
   "outputs": [],
   "source": [
    "url = 'https://www.basketball-reference.com'\n",
    "\n",
    "r = requests.get(url)\n",
    "\n",
    "soup = BeautifulSoup(r.content, 'lxml') # object that represents the html file"
   ]
  },
  {
   "cell_type": "code",
   "execution_count": 3,
   "id": "836c514e",
   "metadata": {},
   "outputs": [],
   "source": [
    "import re\n",
    "\n",
    "teams_parsed = soup.find_all('select', {'id': 'select_team'})\n",
    "\n",
    "list_all_teams = str(teams_parsed[0]).split('\\n')[2:-1]\n",
    "\n",
    "team_list = []\n",
    "for team in list_all_teams:\n",
    "    match = re.search(r'\"(.*?)\"', team)\n",
    "    output = match.group()[1:-1]\n",
    "    team_list.append(output)\n",
    "    "
   ]
  },
  {
   "cell_type": "code",
   "execution_count": 4,
   "id": "df12c471",
   "metadata": {},
   "outputs": [
    {
     "data": {
      "text/plain": [
       "['/teams/ATL',\n",
       " '/teams/BOS',\n",
       " '/teams/BRK',\n",
       " '/teams/CHI',\n",
       " '/teams/CHO',\n",
       " '/teams/CLE',\n",
       " '/teams/DAL',\n",
       " '/teams/DEN',\n",
       " '/teams/DET',\n",
       " '/teams/GSW',\n",
       " '/teams/HOU',\n",
       " '/teams/IND',\n",
       " '/teams/LAC',\n",
       " '/teams/LAL',\n",
       " '/teams/MEM',\n",
       " '/teams/MIA',\n",
       " '/teams/MIL',\n",
       " '/teams/MIN',\n",
       " '/teams/NOP',\n",
       " '/teams/NYK',\n",
       " '/teams/OKC',\n",
       " '/teams/ORL',\n",
       " '/teams/PHI',\n",
       " '/teams/PHO',\n",
       " '/teams/POR',\n",
       " '/teams/SAC',\n",
       " '/teams/SAS',\n",
       " '/teams/TOR',\n",
       " '/teams/UTA',\n",
       " '/teams/WAS']"
      ]
     },
     "execution_count": 4,
     "metadata": {},
     "output_type": "execute_result"
    }
   ],
   "source": [
    "team_list"
   ]
  },
  {
   "cell_type": "code",
   "execution_count": 5,
   "id": "80c5e6d7",
   "metadata": {},
   "outputs": [],
   "source": [
    "def get_stats(year):\n",
    "    nba_info = []\n",
    "    for i in team_list:\n",
    "        team_url = (f'https://www.basketball-reference.com{i}/{str(year)}.html')\n",
    "        team_res = requests.get(team_url)\n",
    "        team_soup = BeautifulSoup(team_res.content, 'lxml')\n",
    "        per_game = soup.find(name = 'table', attrs={'id': 'per_game_stats'})\n",
    "        for row in per_game.find_all('tr')[1:-1]:\n",
    "            player = {}\n",
    "            player['Name'] = row.find('td', {'data-stat': 'name_display'}).text\n",
    "            team = i[-3:]\n",
    "            player['Team'] = team\n",
    "            player['Age'] = row.find('td', {'data-stat' : 'age'}).text\n",
    "            player['Min PG'] = row.find('td', {'data-stat' : 'mp_per_g'}).text\n",
    "            player['Field Goal %'] = row.find('td', {'data-stat' : 'fg_pct'}).text\n",
    "            player['Rebounds PG'] = row.find('td', {'data-stat' : 'trb_per_g'}).text\n",
    "            player['Assists PG'] = row.find('td', {'data-stat' : 'ast_per_g'}).text\n",
    "            player['Steals PG'] = row.find('td', {'data-stat' : 'stl_per_g'}).text\n",
    "            player['Blocks PG'] = row.find('td', {'data-stat' : 'blk_per_g'}).text\n",
    "            player['Turnovers PG'] = row.find('td', {'data-stat' : 'tov_per_g'}).text\n",
    "            player['Points PG'] = row.find('td', {'data-stat' : 'pts_per_g'}).text\n",
    "\n",
    "            name_td = row.find('td', {'data-stat': 'name_display'})\n",
    "            a_tag = name_td.find('a')['href']\n",
    "            player_url = 'https://www.basketball-reference.com' + a_tag\n",
    "            player_request = requests.get(player_url)\n",
    "            player_soup = BeautifulSoup(player_request.content, 'lxml')\n",
    "            player_info = player_soup.find(name = 'div', attrs = {'id' : 'info', 'class' : 'players'})\n",
    "\n",
    "            player_links = []\n",
    "            for link in player_info.find_all('a'):\n",
    "                player_links.append(link.get('href'))\n",
    "            if 'instagram' in player_links[0]:\n",
    "                player['Insta Handle'] = player_links[0].replace('https://instagram.com/', '')\n",
    "            else:\n",
    "                player['Insta Handle'] = 'N/A'\n",
    "            \n",
    "            position_tag = player_info.find('strong', string=lambda text: text and 'Position' in text)\n",
    "            position = ' '.join(position_tag.next_sibling.text.strip().split()[:-1])\n",
    "            player['Position'] = position\n",
    "            p_tag = position_tag.find_parent('p').find_next_sibling()\n",
    "            spans = p_tag.find_all('span')\n",
    "            height, weight = spans[0].text, spans[1].text\n",
    "            player['Height'] = height\n",
    "            player['Weight (lbs)'] = weight[:-2]\n",
    "\n",
    "            nba_info.append(player)\n",
    "        \n",
    "    nba_info_df = pd.DataFrame(nba_info)\n",
    "    return nba_info_df\n",
    "            \n",
    "\n"
   ]
  },
  {
   "cell_type": "code",
   "execution_count": 6,
   "id": "5cee02b2",
   "metadata": {},
   "outputs": [
    {
     "ename": "AttributeError",
     "evalue": "'NoneType' object has no attribute 'find_all'",
     "output_type": "error",
     "traceback": [
      "\u001b[31m---------------------------------------------------------------------------\u001b[39m",
      "\u001b[31mAttributeError\u001b[39m                            Traceback (most recent call last)",
      "\u001b[36mCell\u001b[39m\u001b[36m \u001b[39m\u001b[32mIn[6]\u001b[39m\u001b[32m, line 1\u001b[39m\n\u001b[32m----> \u001b[39m\u001b[32m1\u001b[39m all_nba_players_2021 = \u001b[43mget_stats\u001b[49m\u001b[43m(\u001b[49m\u001b[32;43m2025\u001b[39;49m\u001b[43m)\u001b[49m\n\u001b[32m      2\u001b[39m all_nba_players_2021\n",
      "\u001b[36mCell\u001b[39m\u001b[36m \u001b[39m\u001b[32mIn[5]\u001b[39m\u001b[32m, line 8\u001b[39m, in \u001b[36mget_stats\u001b[39m\u001b[34m(year)\u001b[39m\n\u001b[32m      6\u001b[39m team_soup = BeautifulSoup(team_res.content, \u001b[33m'\u001b[39m\u001b[33mlxml\u001b[39m\u001b[33m'\u001b[39m)\n\u001b[32m      7\u001b[39m per_game = soup.find(name = \u001b[33m'\u001b[39m\u001b[33mtable\u001b[39m\u001b[33m'\u001b[39m, attrs={\u001b[33m'\u001b[39m\u001b[33mid\u001b[39m\u001b[33m'\u001b[39m: \u001b[33m'\u001b[39m\u001b[33mper_game_stats\u001b[39m\u001b[33m'\u001b[39m})\n\u001b[32m----> \u001b[39m\u001b[32m8\u001b[39m \u001b[38;5;28;01mfor\u001b[39;00m row \u001b[38;5;129;01min\u001b[39;00m \u001b[43mper_game\u001b[49m\u001b[43m.\u001b[49m\u001b[43mfind_all\u001b[49m(\u001b[33m'\u001b[39m\u001b[33mtr\u001b[39m\u001b[33m'\u001b[39m)[\u001b[32m1\u001b[39m:-\u001b[32m1\u001b[39m]:\n\u001b[32m      9\u001b[39m     player = {}\n\u001b[32m     10\u001b[39m     player[\u001b[33m'\u001b[39m\u001b[33mName\u001b[39m\u001b[33m'\u001b[39m] = row.find(\u001b[33m'\u001b[39m\u001b[33mtd\u001b[39m\u001b[33m'\u001b[39m, {\u001b[33m'\u001b[39m\u001b[33mdata-stat\u001b[39m\u001b[33m'\u001b[39m: \u001b[33m'\u001b[39m\u001b[33mname_display\u001b[39m\u001b[33m'\u001b[39m}).text\n",
      "\u001b[31mAttributeError\u001b[39m: 'NoneType' object has no attribute 'find_all'"
     ]
    }
   ],
   "source": [
    "all_nba_players_2021 = get_stats(2025)\n",
    "all_nba_players_2021"
   ]
  }
 ],
 "metadata": {
  "kernelspec": {
   "display_name": ".venv",
   "language": "python",
   "name": "python3"
  },
  "language_info": {
   "codemirror_mode": {
    "name": "ipython",
    "version": 3
   },
   "file_extension": ".py",
   "mimetype": "text/x-python",
   "name": "python",
   "nbconvert_exporter": "python",
   "pygments_lexer": "ipython3",
   "version": "3.13.5"
  }
 },
 "nbformat": 4,
 "nbformat_minor": 5
}
